{
  "cells": [
    {
      "cell_type": "markdown",
      "metadata": {
        "id": "J07yShm0RxOF"
      },
      "source": [
        "# Data Generation (auxiliary)"
      ]
    },
    {
      "cell_type": "code",
      "execution_count": 1,
      "metadata": {
        "id": "3KOGeoA4Rv6G"
      },
      "outputs": [],
      "source": [
        "import numpy as np\n",
        "import pandas as pd\n",
        "import torch"
      ]
    },
    {
      "cell_type": "code",
      "execution_count": 2,
      "metadata": {
        "id": "68ih18Q7TXOc"
      },
      "outputs": [],
      "source": [
        "def sig(x):\n",
        "    return 1 / (1 + np.exp(-x))"
      ]
    },
    {
      "cell_type": "code",
      "execution_count": 3,
      "metadata": {
        "id": "cfzJ5gdpR46T"
      },
      "outputs": [],
      "source": [
        "N = 1000\n",
        "d = 10\n",
        "\n",
        "mu = np.random.randn(1, d)\n",
        "sigma = sig(np.random.randn(1, d))\n",
        "X = np.random.randn(N, d) * sigma + mu"
      ]
    },
    {
      "cell_type": "code",
      "execution_count": 4,
      "metadata": {
        "id": "crrh9w2wSlHD"
      },
      "outputs": [],
      "source": [
        "beta = np.random.randn(d, 1)\n",
        "beta0 = np.random.randn(1)\n",
        "Y = sig(X @ beta) + beta0"
      ]
    },
    {
      "cell_type": "markdown",
      "metadata": {
        "id": "2i_H7dAxnOSB"
      },
      "source": [
        "# Your Data"
      ]
    },
    {
      "cell_type": "code",
      "execution_count": 5,
      "metadata": {
        "id": "r56xx7PD7sEs"
      },
      "outputs": [],
      "source": [
        "import pandas as pd\n",
        "import numpy as np"
      ]
    },
    {
      "cell_type": "code",
      "execution_count": null,
      "metadata": {
        "colab": {
          "base_uri": "https://localhost:8080/",
          "height": 330
        },
        "id": "0iPv2rTV8ima",
        "outputId": "25b26ddd-225a-4c47-ad3e-4794176162ce"
      },
      "outputs": [],
      "source": [
        "data = pd.read_csv('./data/SOL/solana.csv')\n",
        "data.head()"
      ]
    },
    {
      "cell_type": "code",
      "execution_count": null,
      "metadata": {
        "id": "1xlRsY2r9PWp"
      },
      "outputs": [],
      "source": [
        "for col in data.columns:\n",
        "  if data[col].isna().all():\n",
        "    print(col)\n",
        "    data = data.drop(col)"
      ]
    },
    {
      "cell_type": "code",
      "execution_count": null,
      "metadata": {
        "colab": {
          "base_uri": "https://localhost:8080/",
          "height": 1000
        },
        "id": "qA9v6Ekd94Ku",
        "outputId": "deef9f2a-27e8-4fdf-d0ce-d58a854b57a2"
      },
      "outputs": [],
      "source": [
        "for col in data.columns:\n",
        "  if col == 'Date':\n",
        "    continue\n",
        "  mean = np.mean(data[col][~data[col].isna()])\n",
        "  data[col][data[col].isna()] = mean\n",
        "\n",
        "data.head()"
      ]
    },
    {
      "cell_type": "markdown",
      "metadata": {
        "id": "OdaVY_AWTzk4"
      },
      "source": [
        "# Data Processing"
      ]
    },
    {
      "cell_type": "code",
      "execution_count": null,
      "metadata": {
        "id": "pJ58DEx6T2At"
      },
      "outputs": [],
      "source": [
        "index = np.random.permutation(N)\n",
        "index_train = index[:int(0.8 * N)]\n",
        "index_test = index[int(0.8 * N):]\n",
        "\n",
        "X_train = X[index_train]\n",
        "X_test = X[index_test]\n",
        "Y_train = Y[index_train]\n",
        "Y_test = Y[index_test]"
      ]
    },
    {
      "cell_type": "code",
      "execution_count": null,
      "metadata": {
        "id": "9G4LMamZUZKO"
      },
      "outputs": [],
      "source": [
        "x_mean = X_train.mean(axis=0)\n",
        "x_std = X_train.std(axis=0)\n",
        "X_train = (X_train - x_mean) / x_std\n",
        "X_test = (X_test - x_mean) / x_std\n",
        "\n",
        "y_mean = Y_train.mean()\n",
        "y_std = Y_train.std()\n",
        "Y_train = (Y_train - y_mean) / y_std\n",
        "Y_test = (Y_test - y_mean) / y_std"
      ]
    },
    {
      "cell_type": "markdown",
      "metadata": {
        "id": "c_OKcG6bUvR1"
      },
      "source": [
        "# Models"
      ]
    },
    {
      "cell_type": "markdown",
      "metadata": {
        "id": "Z4O4JxPDUyXb"
      },
      "source": [
        "**Neural Network**"
      ]
    },
    {
      "cell_type": "code",
      "execution_count": null,
      "metadata": {
        "id": "Yc1WavfcUmCh"
      },
      "outputs": [],
      "source": [
        "import torch.nn as nn\n",
        "import torch.optim as optim\n",
        "\n",
        "device = torch.device(\"cuda\" if torch.cuda.is_available() else \"cpu\")"
      ]
    },
    {
      "cell_type": "code",
      "execution_count": null,
      "metadata": {
        "id": "mMRWdHppU4vL"
      },
      "outputs": [],
      "source": [
        "class Net(nn.Module):\n",
        "\n",
        "  def __init__(self, input_size, hidden_sizes):\n",
        "\n",
        "    super().__init__()\n",
        "\n",
        "    self.layers = nn.Sequential()\n",
        "\n",
        "    dims = (input_size,) + hidden_sizes\n",
        "    for i in range(len(dims) - 1):\n",
        "      self.layers.append(nn.Linear(dims[i], dims[i+1]))\n",
        "      self.layers.append(nn.ReLU())\n",
        "\n",
        "    self.layers.append(nn.Linear(dims[-1], 1))\n",
        "\n",
        "  def forward(self, x):\n",
        "    return self.layers(x)"
      ]
    },
    {
      "cell_type": "code",
      "execution_count": null,
      "metadata": {
        "colab": {
          "base_uri": "https://localhost:8080/"
        },
        "id": "fIm7_mZnWEfs",
        "outputId": "8ad1f236-45e9-4de4-a53b-b85e23bf8a90"
      },
      "outputs": [],
      "source": [
        "N_epochs = 10\n",
        "batch_size = 20\n",
        "learning_rate = 0.01\n",
        "\n",
        "model = Net(d, (20,)).to(device)\n",
        "criterion = nn.MSELoss()\n",
        "optimizer = optim.Adam(model.parameters(), lr=learning_rate)\n",
        "\n",
        "for e in range(N_epochs):\n",
        "  p = np.random.permutation(len(X_train))\n",
        "  X_train = X_train[p]\n",
        "  Y_train = Y_train[p]\n",
        "\n",
        "  for i in range(0, len(X_train), batch_size):\n",
        "    X_batch = X_train[i:i+batch_size]\n",
        "    Y_batch = Y_train[i:i+batch_size]\n",
        "\n",
        "    x = torch.tensor(X_batch, dtype=torch.float32).to(device)\n",
        "    y = torch.tensor(Y_batch, dtype=torch.float32).to(device)\n",
        "\n",
        "    optimizer.zero_grad()\n",
        "    y_pred = model(x)\n",
        "    loss = criterion(y_pred, y)\n",
        "    loss.backward()\n",
        "    optimizer.step()\n",
        "\n",
        "  p_test = np.random.permutation(len(X_test))[:batch_size]\n",
        "  X_test = X_test[p_test]\n",
        "  Y_test = Y_test[p_test]\n",
        "\n",
        "  x_test = torch.tensor(X_test, dtype=torch.float32).to(device)\n",
        "  y_test = torch.tensor(Y_test, dtype=torch.float32).to(device)\n",
        "\n",
        "  with torch.no_grad():\n",
        "    y_pred = model(x_test)\n",
        "    mse = criterion(y_pred, y_test)\n",
        "    print(f\"Epoch {e+1}/{N_epochs}, MSE: {mse.item():.4f}\")"
      ]
    },
    {
      "cell_type": "markdown",
      "metadata": {
        "id": "qnV7bwmfVQLY"
      },
      "source": [
        "**Random Forest**"
      ]
    },
    {
      "cell_type": "code",
      "execution_count": null,
      "metadata": {
        "id": "LIDNQ2-6VNIZ"
      },
      "outputs": [],
      "source": [
        "from sklearn.ensemble import RandomForestRegressor\n",
        "from sklearn.model_selection import train_test_split\n",
        "from sklearn.metrics import mean_squared_error"
      ]
    },
    {
      "cell_type": "code",
      "execution_count": null,
      "metadata": {
        "colab": {
          "base_uri": "https://localhost:8080/",
          "height": 135
        },
        "id": "wILxystPVjUM",
        "outputId": "6e057635-4c9e-49d6-e112-d839bb521035"
      },
      "outputs": [],
      "source": [
        "model = RandomForestRegressor(\n",
        "    n_estimators=200,     # number of trees\n",
        "    max_depth=10,       # or set an integer value\n",
        "    random_state=42\n",
        ")\n",
        "model.fit(X_train, Y_train)"
      ]
    },
    {
      "cell_type": "code",
      "execution_count": null,
      "metadata": {
        "colab": {
          "base_uri": "https://localhost:8080/"
        },
        "id": "LmDdt34_Vt1R",
        "outputId": "ad6cd7fb-8d96-47fb-b17c-3312dd9a67d4"
      },
      "outputs": [
        {
          "name": "stdout",
          "output_type": "stream",
          "text": [
            "Test MSE: 0.1897\n"
          ]
        }
      ],
      "source": [
        "Y_pred = model.predict(X_test)\n",
        "mse = mean_squared_error(Y_test, Y_pred)\n",
        "print(f\"Test MSE: {mse:.4f}\")"
      ]
    }
  ],
  "metadata": {
    "colab": {
      "provenance": []
    },
    "kernelspec": {
      "display_name": "Python 3",
      "name": "python3"
    },
    "language_info": {
      "codemirror_mode": {
        "name": "ipython",
        "version": 3
      },
      "file_extension": ".py",
      "mimetype": "text/x-python",
      "name": "python",
      "nbconvert_exporter": "python",
      "pygments_lexer": "ipython3",
      "version": "3.13.5"
    }
  },
  "nbformat": 4,
  "nbformat_minor": 0
}
